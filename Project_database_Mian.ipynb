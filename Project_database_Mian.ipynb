{
 "cells": [
  {
   "cell_type": "code",
   "execution_count": 1,
   "id": "7db15033",
   "metadata": {},
   "outputs": [
    {
     "name": "stdout",
     "output_type": "stream",
     "text": [
      "Defaulting to user installation because normal site-packages is not writeable\n",
      "Requirement already satisfied: pyodbc in c:\\progut1\\anaconda3\\lib\\site-packages (4.0.34)\n",
      "Note: you may need to restart the kernel to use updated packages.\n"
     ]
    }
   ],
   "source": [
    "pip install pyodbc"
   ]
  },
  {
   "cell_type": "code",
   "execution_count": 1,
   "id": "8daf91a4",
   "metadata": {},
   "outputs": [],
   "source": [
    "import pyodbc"
   ]
  },
  {
   "cell_type": "code",
   "execution_count": 2,
   "id": "2c2280c2",
   "metadata": {},
   "outputs": [
    {
     "name": "stdout",
     "output_type": "stream",
     "text": [
      "('09225', 'PAMIERS', '09', 'MIDI_PYRENEES')\n",
      "('31157', 'CUGNAUX', '31', 'MIDI_PYRENEES')\n",
      "('31385', 'MONTMAURIN', '31', 'MIDI_PYRENEES')\n",
      "('31446', 'RAMONVILLE', '31', 'MIDI_PYRENEES')\n",
      "('31454', 'RIEUMES', '31', 'MIDI_PYRENEES')\n",
      "('31555', 'TOULOUSE', '31', 'MIDI_PYRENEES')\n",
      "('31588', 'VILLEUNEUVE_TOLOSANE', '31', 'MIDI_PYRENEES')\n",
      "('64102', 'BAYONNE', '64', 'AQUITAINE')\n",
      "('65440', 'TARBES', '65', 'MIDI_PYRENEES')\n",
      "('65451', 'TREBONS', '65', 'MIDI_PYRENEES')\n",
      "('65460', 'VIC EN BIGORRE', '65', 'MIDI_PYRENEES')\n",
      "('81065', 'CASTRES', '81', 'MIDI_PYRENEES')\n"
     ]
    }
   ],
   "source": [
    "conn = pyodbc.connect(r'Driver={Microsoft Access Driver (*.mdb, *.accdb)};DBQ=C:\\Users\\21806538\\Downloads\\ConstructionSites2022.accdb;')\n",
    "cursor = conn.cursor()\n",
    "cursor.execute('select * from CITY')\n",
    "   \n",
    "for row in cursor.fetchall():\n",
    "    print (row)"
   ]
  },
  {
   "cell_type": "code",
   "execution_count": 3,
   "id": "289214e6",
   "metadata": {},
   "outputs": [],
   "source": [
    "import sqlite3\n",
    "\n",
    "conn = sqlite3.connect('project.db')\n",
    "\n",
    "c = conn.cursor()"
   ]
  },
  {
   "cell_type": "code",
   "execution_count": 4,
   "id": "0badf572",
   "metadata": {},
   "outputs": [
    {
     "data": {
      "text/plain": [
       "<sqlite3.Cursor at 0x1dde0e85cc0>"
      ]
     },
     "execution_count": 4,
     "metadata": {},
     "output_type": "execute_result"
    }
   ],
   "source": [
    "sql = '''CREATE TABLE IF NOT EXISTS City (\n",
    "            CodeCity TEXT(5),\n",
    "            NameCity TEXT(40),\n",
    "            DepartmentCity TEXT(3),\n",
    "            RegionCity TEXT(40),\n",
    "            \n",
    "            PRIMARY KEY (CodeCity)\n",
    ")'''\n",
    "c.execute(sql)"
   ]
  },
  {
   "cell_type": "code",
   "execution_count": 5,
   "id": "663e607c",
   "metadata": {},
   "outputs": [
    {
     "data": {
      "text/plain": [
       "<sqlite3.Cursor at 0x1dde0e85cc0>"
      ]
     },
     "execution_count": 5,
     "metadata": {},
     "output_type": "execute_result"
    }
   ],
   "source": [
    "sql = '''CREATE TABLE IF NOT EXISTS Company (\n",
    "            VATNum TEXT(14),\n",
    "            NameC TEXT(40),\n",
    "            TypeC TEXT(5),\n",
    "            GroupC INT(40),\n",
    "            CodeCity TEXT(5),\n",
    "            \n",
    "            PRIMARY KEY (VATNum),\n",
    "            FOREIGN KEY (CodeCity) REFERENCES City(CodeCity)\n",
    ")'''\n",
    "c.execute(sql)"
   ]
  },
  {
   "cell_type": "code",
   "execution_count": 6,
   "id": "d96e77b4",
   "metadata": {},
   "outputs": [
    {
     "data": {
      "text/plain": [
       "<sqlite3.Cursor at 0x1dde0e85cc0>"
      ]
     },
     "execution_count": 6,
     "metadata": {},
     "output_type": "execute_result"
    }
   ],
   "source": [
    "sql = '''CREATE TABLE IF NOT EXISTS Site (\n",
    "            CodeS INT,\n",
    "            AddrRoadS TEXT(40),\n",
    "            PostalCodeS TEXT(5),\n",
    "            CategoryS TEXT(40),\n",
    "            TypeS TEXT(40),\n",
    "            CodeCity TEXT(5),\n",
    "            \n",
    "            PRIMARY KEY (CodeS),\n",
    "            FOREIGN KEY (CodeCity) REFERENCES City(CodeCity)\n",
    ")'''\n",
    "c.execute(sql)"
   ]
  },
  {
   "cell_type": "code",
   "execution_count": 7,
   "id": "1e82424f",
   "metadata": {},
   "outputs": [
    {
     "data": {
      "text/plain": [
       "<sqlite3.Cursor at 0x1dde0e85cc0>"
      ]
     },
     "execution_count": 7,
     "metadata": {},
     "output_type": "execute_result"
    }
   ],
   "source": [
    "sql = '''CREATE TABLE IF NOT EXISTS Qualification (\n",
    "            CodeQ INT,\n",
    "            NameQ TEXT(40),\n",
    "            LevelQ TEXT(9),\n",
    "            \n",
    "            PRIMARY KEY (CodeQ)\n",
    ")'''\n",
    "c.execute(sql)"
   ]
  },
  {
   "cell_type": "code",
   "execution_count": 8,
   "id": "f605e050",
   "metadata": {},
   "outputs": [
    {
     "data": {
      "text/plain": [
       "<sqlite3.Cursor at 0x1dde0e85cc0>"
      ]
     },
     "execution_count": 8,
     "metadata": {},
     "output_type": "execute_result"
    }
   ],
   "source": [
    "sql = '''CREATE TABLE IF NOT EXISTS Employee (\n",
    "            CodeEE INT,\n",
    "            LastNameEE TEXT(40),\n",
    "            FirstNameEE TEXT(40),\n",
    "            CodeQ INT,\n",
    "            VATNum TEXT(14),\n",
    "            \n",
    "            PRIMARY KEY (CodeEE),\n",
    "            FOREIGN KEY (CodeQ) REFERENCES Qualification(CodeQ),\n",
    "            FOREIGN KEY (VATNum) REFERENCES Company(VATNum)\n",
    ")'''\n",
    "c.execute(sql)"
   ]
  },
  {
   "cell_type": "code",
   "execution_count": 9,
   "id": "bbd9057d",
   "metadata": {},
   "outputs": [
    {
     "data": {
      "text/plain": [
       "<sqlite3.Cursor at 0x1dde0e85cc0>"
      ]
     },
     "execution_count": 9,
     "metadata": {},
     "output_type": "execute_result"
    }
   ],
   "source": [
    "sql = '''CREATE TABLE IF NOT EXISTS RangeOfWorks (\n",
    "            CodeRW INT,\n",
    "            NameW TEXT(40),\n",
    "            \n",
    "            PRIMARY KEY (CodeRW)\n",
    ")'''\n",
    "c.execute(sql)"
   ]
  },
  {
   "cell_type": "code",
   "execution_count": 13,
   "id": "076446ff",
   "metadata": {},
   "outputs": [
    {
     "data": {
      "text/plain": [
       "<sqlite3.Cursor at 0x1dde0e85cc0>"
      ]
     },
     "execution_count": 13,
     "metadata": {},
     "output_type": "execute_result"
    }
   ],
   "source": [
    "sql = '''CREATE TABLE IF NOT EXISTS Authorize (\n",
    "            CodeQ INT,\n",
    "            CodeRW INT,\n",
    "            \n",
    "            PRIMARY KEY (CodeQ, CodeRW),\n",
    "            FOREIGN KEY (CodeQ) REFERENCES Qualification(CodeQ),\n",
    "            FOREIGN KEY (CodeRW) REFERENCES RangeOfWorks(CodeRW)\n",
    ")'''\n",
    "c.execute(sql)"
   ]
  },
  {
   "cell_type": "code",
   "execution_count": 14,
   "id": "e749c537",
   "metadata": {},
   "outputs": [
    {
     "data": {
      "text/plain": [
       "<sqlite3.Cursor at 0x1dde0e85cc0>"
      ]
     },
     "execution_count": 14,
     "metadata": {},
     "output_type": "execute_result"
    }
   ],
   "source": [
    "sql = '''CREATE TABLE IF NOT EXISTS TypeOfWorks  (\n",
    "            CodeTW INT,\n",
    "            NameTW TEXT(40),\n",
    "            HourlyRateCust NUMERIC,\n",
    "            HourlyRateEmp NUMERIC,\n",
    "            CodeRW INT,\n",
    "            \n",
    "            PRIMARY KEY (CodeTW),\n",
    "            FOREIGN KEY (CodeRW) REFERENCES RangeOfWorks(CodeRW)\n",
    ")'''\n",
    "c.execute(sql)"
   ]
  },
  {
   "cell_type": "code",
   "execution_count": 15,
   "id": "ac6e5adb",
   "metadata": {},
   "outputs": [
    {
     "data": {
      "text/plain": [
       "<sqlite3.Cursor at 0x1dde0e85cc0>"
      ]
     },
     "execution_count": 15,
     "metadata": {},
     "output_type": "execute_result"
    }
   ],
   "source": [
    "sql = '''CREATE TABLE IF NOT EXISTS Quotation (\n",
    "            CodeQ INT,\n",
    "            DateQ DATE,\n",
    "            DateEndQ DATE,\n",
    "            VATNum TEXT(14),\n",
    "            CodeS INT,\n",
    "            \n",
    "            PRIMARY KEY (CodeQ),\n",
    "            FOREIGN KEY (VATNum) REFERENCES Company(VATNum),\n",
    "            FOREIGN KEY (CodeS) REFERENCES Site(CodeS)\n",
    ")'''\n",
    "c.execute(sql)"
   ]
  },
  {
   "cell_type": "code",
   "execution_count": 17,
   "id": "17d215c5",
   "metadata": {},
   "outputs": [
    {
     "data": {
      "text/plain": [
       "<sqlite3.Cursor at 0x1dde0e85cc0>"
      ]
     },
     "execution_count": 17,
     "metadata": {},
     "output_type": "execute_result"
    }
   ],
   "source": [
    "sql = '''CREATE TABLE IF NOT EXISTS Include (\n",
    "            CodeQ INT,\n",
    "            CodeTW INT,\n",
    "            NbHoursPlanned NUMERIC,\n",
    "            \n",
    "            PRIMARY KEY (CodeQ, CodeTW),\n",
    "            FOREIGN KEY (CodeQ) REFERENCES Quotation(CodeQ),\n",
    "            FOREIGN KEY (CodeTW) REFERENCES TypeOfWorks(CodeTW)\n",
    ")'''\n",
    "c.execute(sql)"
   ]
  },
  {
   "cell_type": "code",
   "execution_count": 18,
   "id": "218fad2a",
   "metadata": {},
   "outputs": [
    {
     "data": {
      "text/plain": [
       "<sqlite3.Cursor at 0x1dde0e85cc0>"
      ]
     },
     "execution_count": 18,
     "metadata": {},
     "output_type": "execute_result"
    }
   ],
   "source": [
    "sql = '''CREATE TABLE IF NOT EXISTS Work (\n",
    "            CodeS INT,\n",
    "            CodeEE INT,\n",
    "            DateW DATE,\n",
    "            CodeTW INT,\n",
    "            NBHourW NUMERIC,\n",
    "            \n",
    "            PRIMARY KEY (CodeS, CodeEE, DateW, CodeTW),\n",
    "            FOREIGN KEY (CodeS) REFERENCES Site(CodeS),\n",
    "            FOREIGN KEY (CodeEE) REFERENCES Employee(CodeEE),\n",
    "            FOREIGN KEY (CodeTW) REFERENCES TypeOfWorks(CodeTW)\n",
    ")'''\n",
    "c.execute(sql)"
   ]
  }
 ],
 "metadata": {
  "kernelspec": {
   "display_name": "Python 3 (ipykernel)",
   "language": "python",
   "name": "python3"
  },
  "language_info": {
   "codemirror_mode": {
    "name": "ipython",
    "version": 3
   },
   "file_extension": ".py",
   "mimetype": "text/x-python",
   "name": "python",
   "nbconvert_exporter": "python",
   "pygments_lexer": "ipython3",
   "version": "3.10.9"
  }
 },
 "nbformat": 4,
 "nbformat_minor": 5
}
