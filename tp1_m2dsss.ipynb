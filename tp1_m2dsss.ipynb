{
  "cells": [
    {
      "cell_type": "markdown",
      "metadata": {
        "id": "view-in-github",
        "colab_type": "text"
      },
      "source": [
        "<a href=\"https://colab.research.google.com/github/mianzha/Zhao_Mian_TSE/blob/main/tp1_m2dsss.ipynb\" target=\"_parent\"><img src=\"https://colab.research.google.com/assets/colab-badge.svg\" alt=\"Open In Colab\"/></a>"
      ]
    },
    {
      "cell_type": "markdown",
      "metadata": {
        "id": "xxH2AEif1XZJ"
      },
      "source": [
        "# Social Data Analysis: Generalities, Complex Networks and Node-Centric Metrics\n",
        "\n",
        "In this practical work, we will first check if a network satisfies the 3 constraints to be considered as a complex network and then, we will determine how important nodes are within this network.\n",
        "\n",
        "The library we will use for handling networks is networkx"
      ]
    },
    {
      "cell_type": "markdown",
      "metadata": {
        "id": "UZhidhWz1XZM"
      },
      "source": [
        "## First, let's install the potentially missing libraries\n",
        "(not necessary if you are certain these libs are installed on your system)"
      ]
    },
    {
      "cell_type": "code",
      "execution_count": 1,
      "metadata": {
        "scrolled": true,
        "colab": {
          "base_uri": "https://localhost:8080/"
        },
        "id": "Sk96I73S1XZN",
        "outputId": "19558e34-5e8f-4dcf-d88b-ffcb7b338a36"
      },
      "outputs": [
        {
          "output_type": "stream",
          "name": "stdout",
          "text": [
            "Requirement already satisfied: pandas in /usr/local/lib/python3.10/dist-packages (1.5.3)\n",
            "Requirement already satisfied: python-dateutil>=2.8.1 in /usr/local/lib/python3.10/dist-packages (from pandas) (2.8.2)\n",
            "Requirement already satisfied: pytz>=2020.1 in /usr/local/lib/python3.10/dist-packages (from pandas) (2023.3.post1)\n",
            "Requirement already satisfied: numpy>=1.21.0 in /usr/local/lib/python3.10/dist-packages (from pandas) (1.23.5)\n",
            "Requirement already satisfied: six>=1.5 in /usr/local/lib/python3.10/dist-packages (from python-dateutil>=2.8.1->pandas) (1.16.0)\n",
            "Requirement already satisfied: networkx in /usr/local/lib/python3.10/dist-packages (3.2.1)\n",
            "Requirement already satisfied: seaborn in /usr/local/lib/python3.10/dist-packages (0.13.1)\n",
            "Requirement already satisfied: numpy!=1.24.0,>=1.20 in /usr/local/lib/python3.10/dist-packages (from seaborn) (1.23.5)\n",
            "Requirement already satisfied: pandas>=1.2 in /usr/local/lib/python3.10/dist-packages (from seaborn) (1.5.3)\n",
            "Requirement already satisfied: matplotlib!=3.6.1,>=3.4 in /usr/local/lib/python3.10/dist-packages (from seaborn) (3.7.1)\n",
            "Requirement already satisfied: contourpy>=1.0.1 in /usr/local/lib/python3.10/dist-packages (from matplotlib!=3.6.1,>=3.4->seaborn) (1.2.0)\n",
            "Requirement already satisfied: cycler>=0.10 in /usr/local/lib/python3.10/dist-packages (from matplotlib!=3.6.1,>=3.4->seaborn) (0.12.1)\n",
            "Requirement already satisfied: fonttools>=4.22.0 in /usr/local/lib/python3.10/dist-packages (from matplotlib!=3.6.1,>=3.4->seaborn) (4.47.2)\n",
            "Requirement already satisfied: kiwisolver>=1.0.1 in /usr/local/lib/python3.10/dist-packages (from matplotlib!=3.6.1,>=3.4->seaborn) (1.4.5)\n",
            "Requirement already satisfied: packaging>=20.0 in /usr/local/lib/python3.10/dist-packages (from matplotlib!=3.6.1,>=3.4->seaborn) (23.2)\n",
            "Requirement already satisfied: pillow>=6.2.0 in /usr/local/lib/python3.10/dist-packages (from matplotlib!=3.6.1,>=3.4->seaborn) (9.4.0)\n",
            "Requirement already satisfied: pyparsing>=2.3.1 in /usr/local/lib/python3.10/dist-packages (from matplotlib!=3.6.1,>=3.4->seaborn) (3.1.1)\n",
            "Requirement already satisfied: python-dateutil>=2.7 in /usr/local/lib/python3.10/dist-packages (from matplotlib!=3.6.1,>=3.4->seaborn) (2.8.2)\n",
            "Requirement already satisfied: pytz>=2020.1 in /usr/local/lib/python3.10/dist-packages (from pandas>=1.2->seaborn) (2023.3.post1)\n",
            "Requirement already satisfied: six>=1.5 in /usr/local/lib/python3.10/dist-packages (from python-dateutil>=2.7->matplotlib!=3.6.1,>=3.4->seaborn) (1.16.0)\n"
          ]
        }
      ],
      "source": [
        "! pip install pandas\n",
        "! pip install networkx\n",
        "! pip install seaborn"
      ]
    },
    {
      "cell_type": "markdown",
      "metadata": {
        "id": "_mTvuL-i1XZO"
      },
      "source": [
        "## Second, let's import the useful packages\n",
        "You can avoid the first line if you are not using a Jupyter notebook. This line enables the visualization to be displayed in the notebook."
      ]
    },
    {
      "cell_type": "code",
      "execution_count": 2,
      "metadata": {
        "id": "EPltVGmY1XZP"
      },
      "outputs": [],
      "source": [
        "%matplotlib inline\n",
        "\n",
        "import networkx as nx\n",
        "import pandas as pd\n",
        "import seaborn as sns\n",
        "from scipy import stats\n",
        "import matplotlib.pyplot as plt"
      ]
    },
    {
      "cell_type": "markdown",
      "metadata": {
        "id": "M80C9wqF1XZP"
      },
      "source": [
        "## Good, if you have not encounter any problems, we can start working now!"
      ]
    },
    {
      "cell_type": "markdown",
      "metadata": {
        "id": "ux29wUQs1XZP"
      },
      "source": [
        "### First download the dataset (on Moodle)"
      ]
    },
    {
      "cell_type": "code",
      "execution_count": 3,
      "metadata": {
        "id": "DF5PyP291XZQ"
      },
      "outputs": [],
      "source": [
        "# Obviously, you must replace the path below by the appropriate path\n",
        "pathData = nx.read_pajek(\"/content/airports.net\")\n",
        "air_g = nx.DiGraph(pathData)"
      ]
    },
    {
      "cell_type": "markdown",
      "metadata": {
        "solution2": "shown",
        "solution2_first": true,
        "id": "y1oxpvRh1XZQ"
      },
      "source": [
        "### Then, navigate through the documentation of the networkx package and find how to load networks in the pajek format\n",
        "\n",
        "Note that the graph should be __directed__.\n",
        "\n",
        "TIP: to create a directed simple graph after loading the pajek network, you must use the follwing instruction `g = nx.DiGraph(g)` where `g` is the loaded pajek network."
      ]
    },
    {
      "cell_type": "markdown",
      "metadata": {
        "id": "IpOotU9H1XZQ"
      },
      "source": [
        "# Check the complex network properties\n",
        "## Long-tail distribution"
      ]
    },
    {
      "cell_type": "markdown",
      "metadata": {
        "solution2": "hidden",
        "solution2_first": true,
        "id": "cmfTnBKi1XZQ"
      },
      "source": [
        "### Plot the degree distribution of the graph\n",
        "  1. Calculate and store the degree of each node\n",
        "  2. Convert the result (a dict) into a Pandas object, a Series\n",
        "  3. Use the seaborn `distplot` function to plot the degree distribution. Check the documenetation to set the parameters as follows: 20 bins and no gaussian kernel density estimate. Note that you must use the `plt.show()` instruction afterward to visualize the result.\n"
      ]
    },
    {
      "cell_type": "code",
      "execution_count": 4,
      "metadata": {
        "id": "nXrLD3cs1XZR"
      },
      "outputs": [],
      "source": [
        "##1. Calculate and store the degree of each node\n",
        "degree = dict(air_g.degree)"
      ]
    },
    {
      "cell_type": "code",
      "execution_count": 5,
      "metadata": {
        "id": "q6Q7_yNy1XZR"
      },
      "outputs": [],
      "source": [
        "##2. Convert the result (a dict) into a Pandas object, a Series\n",
        "degree = pd.Series(degree)"
      ]
    },
    {
      "cell_type": "code",
      "execution_count": 6,
      "metadata": {
        "colab": {
          "base_uri": "https://localhost:8080/",
          "height": 621
        },
        "id": "9xzqrqMc1XZT",
        "outputId": "d7630463-7a24-4e46-bdf3-86c83248f919"
      },
      "outputs": [
        {
          "output_type": "stream",
          "name": "stderr",
          "text": [
            "<ipython-input-6-d8ba9e952fcf>:5: UserWarning: \n",
            "\n",
            "`distplot` is a deprecated function and will be removed in seaborn v0.14.0.\n",
            "\n",
            "Please adapt your code to use either `displot` (a figure-level function with\n",
            "similar flexibility) or `histplot` (an axes-level function for histograms).\n",
            "\n",
            "For a guide to updating your code to use the new functions, please see\n",
            "https://gist.github.com/mwaskom/de44147ed2974457ad6372750bbe5751\n",
            "\n",
            "  sns.distplot(degree, bins = 20, kde = False)\n"
          ]
        },
        {
          "output_type": "display_data",
          "data": {
            "text/plain": [
              "<Figure size 640x480 with 1 Axes>"
            ],
            "image/png": "[encoded data removed]"
          },
          "metadata": {}
        }
      ],
      "source": [
        "#3. Use the seaborn `distplot` function to plot the degree distribution. Check the documenetation to set the parameters as\n",
        "#follows: 20 bins and no gaussian kernel density estimate. Note that you must use the `plt.show()` instruction afterward to\n",
        "#visualize the result.\n",
        "\n",
        "sns.distplot(degree, bins = 20, kde = False)\n",
        "plt.show()"
      ]
    },
    {
      "cell_type": "markdown",
      "metadata": {
        "solution2": "hidden",
        "solution2_first": true,
        "id": "4zmSmZvo1XZT"
      },
      "source": [
        "### Check if the graph satisfies the power-law degree property\n",
        "Modify the call to the `distplot` function to graphically check if the degree distibution fits a power-law distribution. To do so, you should set the `fit` parameter to `stats.powerlaw`. Conclude."
      ]
    },
    {
      "cell_type": "code",
      "execution_count": 7,
      "metadata": {
        "colab": {
          "base_uri": "https://localhost:8080/",
          "height": 621
        },
        "id": "hHFSXJle1XZU",
        "outputId": "f23431e2-96d4-46c6-9d80-b64c81e3086d"
      },
      "outputs": [
        {
          "output_type": "stream",
          "name": "stderr",
          "text": [
            "<ipython-input-7-7040db149aa2>:3: UserWarning: \n",
            "\n",
            "`distplot` is a deprecated function and will be removed in seaborn v0.14.0.\n",
            "\n",
            "Please adapt your code to use either `displot` (a figure-level function with\n",
            "similar flexibility) or `histplot` (an axes-level function for histograms).\n",
            "\n",
            "For a guide to updating your code to use the new functions, please see\n",
            "https://gist.github.com/mwaskom/de44147ed2974457ad6372750bbe5751\n",
            "\n",
            "  sns.distplot(degree, bins = 20, kde = False, fit = stats.powerlaw)\n"
          ]
        },
        {
          "output_type": "display_data",
          "data": {
            "text/plain": [
              "<Figure size 640x480 with 1 Axes>"
            ],
            "image/png": "[encoded data removed]"
          },
          "metadata": {}
        }
      ],
      "source": [
        "fig, ax = plt.subplots(1, 1)\n",
        "\n",
        "sns.distplot(degree, bins = 20, kde = False, fit = stats.powerlaw)\n",
        "plt.show()"
      ]
    },
    {
      "cell_type": "markdown",
      "metadata": {
        "solution2": "hidden",
        "solution2_first": true,
        "id": "aCSSU1MD1XZU"
      },
      "source": [
        "## Small-world hypothesis\n",
        "We now want to check if this network satisfies the small-world hypothesis. Calculate the average shortest path length and conclude if this network satisfies the small world hypothesis.\n",
        "  "
      ]
    },
    {
      "cell_type": "code",
      "execution_count": 8,
      "metadata": {
        "id": "Exa_Sq7q1XZV"
      },
      "outputs": [],
      "source": [
        "node = list(air_g.nodes)\n",
        "sp = []\n",
        "for i in range(len(node)-1):\n",
        "    for j in range(i+1, len(node)):\n",
        "        if nx.has_path(air_g, node[i], node[j]) == True:\n",
        "            sp.append(nx.shortest_path_length(air_g, node[i], node[j]))"
      ]
    },
    {
      "cell_type": "code",
      "execution_count": 9,
      "metadata": {
        "colab": {
          "base_uri": "https://localhost:8080/"
        },
        "id": "pWePolxl1XZV",
        "outputId": "b9ce08e2-bc36-4e5d-c743-a87806b9023e"
      },
      "outputs": [
        {
          "output_type": "execute_result",
          "data": {
            "text/plain": [
              "2.5639775322510956"
            ]
          },
          "metadata": {},
          "execution_count": 9
        }
      ],
      "source": [
        "sum(sp)/len(sp)"
      ]
    },
    {
      "cell_type": "markdown",
      "metadata": {
        "solution2": "shown",
        "solution2_first": true,
        "id": "ws8ni8551XZV"
      },
      "source": [
        "### Check the strong community structure\n",
        "To check how string is the community structure in this network, we will apply the following methodology:\n",
        "  1. Use the `gnm_random_graph` function to generate a random graph having the same number of vertices and edges than the studied network\n",
        "  2. Calculate the average clustering on both networks\n",
        "  3. Conclude"
      ]
    },
    {
      "cell_type": "code",
      "execution_count": 13,
      "metadata": {
        "id": "FrZWLRqZ1XZW"
      },
      "outputs": [],
      "source": [
        "# 1. Use the `gnm_random_graph` function to generate a random graph having the same number of vertices and edges than the studied network\n",
        "n = len(air_g.nodes)\n",
        "m = len(air_g.edges)\n",
        "rand_g = nx.gnm_random_graph(n, m, seed = 1234, directed = True)"
      ]
    },
    {
      "cell_type": "code",
      "source": [
        "#2. Calculate the average clustering on both networks\n",
        "print('the average clustering on both graphs are respectively:','airport',nx.average_clustering(air_g), ' and random graph', nx.average_clustering(rand_g))"
      ],
      "metadata": {
        "colab": {
          "base_uri": "https://localhost:8080/"
        },
        "id": "C1sYqjnX4GXb",
        "outputId": "c78aeb17-fa69-4d68-adfd-6e15d5a1bf77"
      },
      "execution_count": 18,
      "outputs": [
        {
          "output_type": "stream",
          "name": "stdout",
          "text": [
            "the average clustering on both graphs are respectively: airport 0.3126086245812515  and random graph 0.01837120765636259\n"
          ]
        }
      ]
    },
    {
      "cell_type": "markdown",
      "source": [
        "Conclusion:"
      ],
      "metadata": {
        "id": "n0_V4KQF8YjA"
      }
    },
    {
      "cell_type": "markdown",
      "metadata": {
        "id": "thPOpU4f1XZW"
      },
      "source": [
        "# Node-Centric Metrics\n",
        "We will now focus on the relative importance of vertices within the network. Luckily, many centrality metrics are implemented in networkx.\n",
        "\n",
        "## Centrality Metrics\n",
        "Have a look to the package documentation and calculate the following centralities:\n",
        "  1. degree\n",
        "  2. closeness\n",
        "  3. eigenvector\n",
        "  4. Katz\n",
        "  5. betweenness"
      ]
    },
    {
      "cell_type": "code",
      "execution_count": 20,
      "metadata": {
        "id": "0Ke0Jj-X1XZW"
      },
      "outputs": [],
      "source": [
        "#1.a.in-degree\n",
        "d_in = nx.in_degree_centrality(air_g)"
      ]
    },
    {
      "cell_type": "code",
      "source": [
        "#1.b.out-degree\n",
        "d_out = nx.out_degree_centrality(air_g)"
      ],
      "metadata": {
        "id": "pFKcmzU89kBV"
      },
      "execution_count": 21,
      "outputs": []
    },
    {
      "cell_type": "code",
      "source": [
        "#2.closeness\n",
        "cl_c = nx.closeness_centrality(air_g)"
      ],
      "metadata": {
        "id": "cOZ0nAcM9tn0"
      },
      "execution_count": 23,
      "outputs": []
    },
    {
      "cell_type": "code",
      "source": [
        "#3.eigenvector\n",
        "ei_c = nx.eigenvector_centrality(air_g, max_iter=1000)"
      ],
      "metadata": {
        "id": "UgPdesP49_f6"
      },
      "execution_count": 26,
      "outputs": []
    },
    {
      "cell_type": "code",
      "source": [
        "#4.Katz\n",
        "K_c = nx.katz_centrality(air_g)"
      ],
      "metadata": {
        "id": "pO_tsv7b-epV"
      },
      "execution_count": 28,
      "outputs": []
    },
    {
      "cell_type": "code",
      "source": [
        "#5.betweenness\n",
        "bet_c = nx.betweenness_centrality(air_g)"
      ],
      "metadata": {
        "id": "xewiu5TF-yEc"
      },
      "execution_count": 29,
      "outputs": []
    },
    {
      "cell_type": "markdown",
      "metadata": {
        "id": "nxjxQ6l41XZW"
      },
      "source": [
        "## Page Rank and HITS\n",
        "Similarly to the previous question, have a look to the package documentation and calculate the following metrics:\n",
        "\n",
        "  1. Page Rank\n",
        "  2. Hub and Authorities (HITS)\n"
      ]
    },
    {
      "cell_type": "code",
      "execution_count": 32,
      "metadata": {
        "id": "YdSl_ZrF1XZW"
      },
      "outputs": [],
      "source": [
        "#1.Page rank\n",
        "p_k = nx.pagerank(air_g)"
      ]
    },
    {
      "cell_type": "code",
      "source": [
        "#2.Hub and Authorities (HITS)\n",
        "h_a = nx.hits(air_g)"
      ],
      "metadata": {
        "id": "_0jOkLal_Pi1"
      },
      "execution_count": 33,
      "outputs": []
    },
    {
      "cell_type": "markdown",
      "metadata": {
        "id": "4x7pPNbY1XZX"
      },
      "source": [
        "## On the correlation of node-centric metrics\n",
        "First, create a dataframe using with the above calculated centralities."
      ]
    },
    {
      "cell_type": "markdown",
      "metadata": {
        "id": "lPEgaf-R1XZX"
      },
      "source": [
        "Then, we will plot the pairwise relationships between centralities to have a first glimpse of the possible correlation between them. For this, use the `pairplot` function of the `seaborn` package."
      ]
    },
    {
      "cell_type": "markdown",
      "metadata": {
        "id": "KVnuR6Ie1XZX"
      },
      "source": [
        "We will now assess more properly these potential correlations. For this, use the `corr()` on your data frame. Be aware that the default method mignt not be appropriate to your case. Once the pairwise correlations have been calculated, we will plot the related method using the `heatmap()` function of the `seaborn` package. TIP: to change the color scheme, you can use the `cmap` parameter with value `plt.get_cmap(xxx)` where `xxx` is a color scheme (visit [this site](https://matplotlib.org/users/colormaps.html) to get the list of existing cholor schemes)."
      ]
    },
    {
      "cell_type": "markdown",
      "metadata": {
        "id": "hFEAVVHh1XZX"
      },
      "source": [
        "On the finding of atypical vertices\n",
        "------------------------------------\n",
        "\n",
        "As discussed during the lecture ans as you have just seen in the previous question, centrality metrics are often positively correlated. We will now find some key vertices in the network. Typically, these vertices are vertices that somehow \"break\" the positive pairwise correlations.\n",
        "You mission is to find at least one of these vertices. To do so, you will apply the following methodology:\n",
        "  1. Extract the 10 top airports per centrality metric\n",
        "  2. Comparethe list and conclude\n"
      ]
    },
    {
      "cell_type": "markdown",
      "metadata": {
        "id": "x8dEU1rL1XZX"
      },
      "source": [
        "Graph visualization\n",
        "-----------------------------------\n",
        "\n",
        "We will finally visualize the network to find some key vertices in the network. This can be useful to explain why some vertices play a crucial role in the network.\n",
        "\n",
        "TIP 1: one way to fix the spatial position of the vertices is to use the vertex attributes `x` and `y`. To do so, you should create a dictionnary such that the keys are the labels of the vertices and the values are tuples isuch as `(x,y)`\n",
        "TIP 2: you can pass a dictionnary as parameter of the `draw_network` function to specify some visualization parameter, e.g., `nx.draw_network(g, **options)` where `options` is defined as:\n",
        "```python\n",
        "options = {\n",
        "    'node_color' : # either a color or a list with values (the vertex color will thus change according to the value) -- the size of the list should be the same as the number of vertices in the network\n",
        "    'node_size' : 500,\n",
        "    'cmap' : plt.get_cmap(\"jet\"), # a color scheme (see below)\n",
        "    #'vmin' : 0, # these two options are used to adjust the color scheme\n",
        "    #'vmax' : 0.7 , # these two options are used to adjust the color scheme\n",
        "    'node_shape' : 'o', # the shape of the node\n",
        "    'with_labels' : True # print labels or not\n",
        "}\n",
        "```"
      ]
    }
  ],
  "metadata": {
    "kernelspec": {
      "display_name": "Python 3 (ipykernel)",
      "language": "python",
      "name": "python3"
    },
    "language_info": {
      "codemirror_mode": {
        "name": "ipython",
        "version": 3
      },
      "file_extension": ".py",
      "mimetype": "text/x-python",
      "name": "python",
      "nbconvert_exporter": "python",
      "pygments_lexer": "ipython3",
      "version": "3.10.9"
    },
    "toc": {
      "nav_menu": {},
      "number_sections": true,
      "sideBar": true,
      "skip_h1_title": false,
      "toc_cell": false,
      "toc_position": {},
      "toc_section_display": "block",
      "toc_window_display": false
    },
    "colab": {
      "provenance": [],
      "include_colab_link": true
    }
  },
  "nbformat": 4,
  "nbformat_minor": 0
}